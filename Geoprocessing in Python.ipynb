{
 "cells": [
  {
   "cell_type": "markdown",
   "metadata": {
    "datalore": {
     "hide_input_from_viewers": true,
     "hide_output_from_viewers": true,
     "node_id": "LjPSMaufx2pc2SDaGr35AE",
     "type": "MD"
    }
   },
   "source": [
    "# Geoprocessing in Python"
   ]
  },
  {
   "cell_type": "markdown",
   "metadata": {
    "datalore": {
     "hide_input_from_viewers": true,
     "hide_output_from_viewers": true,
     "node_id": "S4sewdspJlW31d9bFKMWTT",
     "type": "MD"
    }
   },
   "source": [
    "## Dataset (1): Mobility Data"
   ]
  },
  {
   "cell_type": "code",
   "execution_count": null,
   "metadata": {
    "datalore": {
     "hide_input_from_viewers": true,
     "hide_output_from_viewers": true,
     "node_id": "FOkyM1EoVgVlAxfka0vLCl",
     "type": "CODE"
    }
   },
   "outputs": [],
   "source": [
    "import pandas as pd\n",
    "\n",
    "#Load Data frames for the Spadina Chinatown Neighbourhood\n",
    "Spadina20 = pd.read_csv(\"SpadinaChtn20.csv\")\n",
    "Spadina21 = pd.read_csv(\"SpadinaChtn21.csv\")\n",
    "\n",
    "#Load Data frames for the Spadina Chinatown Neighbourhood\n",
    "Liberty20 = pd.read_csv(\"LibVill20.csv\")\n",
    "Liberty21 = pd.read_csv(\"LibVill21.csv\")\n",
    "\n",
    "#Add a Year column to the csv file to indicate the year of the data for both neighbourhoods\n",
    "\n",
    "Spadina20 = Spadina20.assign(Year = 2020)\n",
    "Spadina21 = Spadina21.assign(Year = 2021)\n",
    "\n",
    "Liberty20 = Liberty20.assign(Year = 2020)\n",
    "Liberty21 = Liberty21.assign(Year = 2021)"
   ]
  },
  {
   "cell_type": "markdown",
   "metadata": {
    "datalore": {
     "hide_input_from_viewers": true,
     "hide_output_from_viewers": true,
     "node_id": "yHPTNHc8mZyulsNFlxpcTw",
     "type": "MD"
    }
   },
   "source": [
    "### Create Spadina 2020 Flow"
   ]
  },
  {
   "cell_type": "code",
   "execution_count": null,
   "metadata": {
    "datalore": {
     "hide_input_from_viewers": true,
     "hide_output_from_viewers": true,
     "node_id": "1jTNupolbZFH7zmLc4wPnz",
     "type": "CODE"
    }
   },
   "outputs": [],
   "source": [
    "!pip install geopandas\n",
    "\n",
    "import geopandas as gpd\n",
    "from shapely.geometry import LineString\n",
    "\n",
    "# Read in dataframe\n",
    "Spadina20 = Spadina20\n",
    "\n",
    "# Define the centre of the Spadina BIA (approximately)\n",
    "Spadina_longlat = (-79.39810845767018, 43.652932760606014)\n",
    "\n",
    "\n",
    "# Group by evening location lat and long, summing visits and visitors for different dates/times\n",
    "Spadina20_groupby = Spadina20.groupby([\"CEL_LATITUDE\",\"CEL_LONGITUDE\"]).agg({\n",
    "    \"Unique_Visitors\":'sum', \n",
    "    \"Daily_Visits\": 'sum',\n",
    "}).reset_index()\n",
    "\n",
    "# Create straight lines from each location to Spadina Chinatown\n",
    "lines = [LineString([(row.CEL_LONGITUDE, row.CEL_LATITUDE), Spadina_longlat]) for i, row in Spadina20_groupby.iterrows()]\n",
    "\n",
    "# Save as a geojson\n",
    "gdf = gpd.GeoDataFrame(Spadina20_groupby, geometry=lines)\n",
    "gdf.to_file(\"Spadinaflows20.geojson\", driver=\"GeoJSON\")"
   ]
  },
  {
   "cell_type": "markdown",
   "metadata": {
    "datalore": {
     "hide_input_from_viewers": true,
     "hide_output_from_viewers": true,
     "node_id": "Y0WEpVZ1TqqM6yDorX6ir0",
     "type": "MD"
    }
   },
   "source": [
    "### Create Spadina 2021 flow"
   ]
  },
  {
   "cell_type": "code",
   "execution_count": null,
   "metadata": {
    "datalore": {
     "hide_input_from_viewers": true,
     "hide_output_from_viewers": true,
     "node_id": "INAhCBfRzEsxBkwY6hZmWu",
     "type": "CODE"
    }
   },
   "outputs": [],
   "source": [
    "#Create Spadina 2021 Flows\n",
    "\n",
    "# Read in dataframe\n",
    "Spadina21 = Spadina21\n",
    "\n",
    "# Define centre of the Spadina BIA (approximately)\n",
    "Spadina_longlat = (-79.39810845767018, 43.652932760606014)\n",
    "\n",
    "\n",
    "# Group by evening location lat and long, summing visits and visitors for different dates/times\n",
    "Spadina21_groupby = Spadina21.groupby([\"CEL_LATITUDE\",\"CEL_LONGITUDE\"]).agg({\n",
    "    \"Unique_Visitors\":'sum', \n",
    "    \"Daily_Visits\": 'sum',\n",
    "}).reset_index()\n",
    "\n",
    "# Create straight lines from each location to Spadina Chinatown\n",
    "lines = [LineString([(row.CEL_LONGITUDE, row.CEL_LATITUDE), Spadina_longlat]) for i, row in Spadina21_groupby.iterrows()]\n",
    "\n",
    "# Save as a geojson\n",
    "gdf = gpd.GeoDataFrame(Spadina21_groupby, geometry=lines)\n",
    "gdf.to_file(\"Spadinaflows21.geojson\", driver=\"GeoJSON\")"
   ]
  },
  {
   "cell_type": "markdown",
   "metadata": {
    "datalore": {
     "hide_input_from_viewers": true,
     "hide_output_from_viewers": true,
     "node_id": "8O25iyKm4v9Pb6FzjMk7eD",
     "type": "MD"
    }
   },
   "source": [
    "### Create Liberty Village 2020 Flow"
   ]
  },
  {
   "cell_type": "code",
   "execution_count": null,
   "metadata": {
    "datalore": {
     "hide_input_from_viewers": true,
     "hide_output_from_viewers": true,
     "node_id": "CbTWEGeYA77hV4cq5VnDlZ",
     "type": "CODE"
    }
   },
   "outputs": [],
   "source": [
    "#Create Liberty 2020 Flows\n",
    "\n",
    "# Read in dataframe\n",
    "Liberty20 = Liberty20\n",
    "\n",
    "# Define centre of the Liberty Village BIA (approximately)\n",
    "Liberty_longlat = (-79.41957314863295, 43.63851984317983)\n",
    "\n",
    "\n",
    "# Group by evening location lat and long, summing visits and visitors for different dates/times\n",
    "Liberty20_groupby = Liberty20.groupby([\"CEL_LATITUDE\",\"CEL_LONGITUDE\"]).agg({\n",
    "    \"Unique_Visitors\":'sum', \n",
    "    \"Daily_Visits\": 'sum',\n",
    "}).reset_index()\n",
    "\n",
    "# Create straight lines from each location to Liberty Village\n",
    "lines = [LineString([(row.CEL_LONGITUDE, row.CEL_LATITUDE), Liberty_longlat]) for i, row in Liberty20_groupby.iterrows()]\n",
    "\n",
    "# Save as a geojson\n",
    "gdf = gpd.GeoDataFrame(Liberty20_groupby, geometry=lines)\n",
    "gdf.to_file(\"Libertyflows20.geojson\", driver=\"GeoJSON\")"
   ]
  },
  {
   "cell_type": "markdown",
   "metadata": {
    "datalore": {
     "hide_input_from_viewers": true,
     "hide_output_from_viewers": true,
     "node_id": "gYmCeNxpZLH0HTQlqB5hLT",
     "type": "MD"
    }
   },
   "source": [
    "### Create Liberty Village 2021 Flow"
   ]
  },
  {
   "cell_type": "code",
   "execution_count": null,
   "metadata": {
    "datalore": {
     "hide_input_from_viewers": true,
     "hide_output_from_viewers": true,
     "node_id": "Vg6hHLB2iKsqCWI6drZKhC",
     "type": "CODE"
    }
   },
   "outputs": [],
   "source": [
    "#Create Liberty 2021 Flows\n",
    "\n",
    "# Read in dataframe\n",
    "Liberty21 = Liberty21\n",
    "\n",
    "# Define centre of the Liberty Village BIA (approximately)\n",
    "Liberty_longlat = (-79.41957314863295, 43.63851984317983)\n",
    "\n",
    "\n",
    "# Group by evening location lat and long, summing visits and visitors for different dates/times\n",
    "Liberty21_groupby = Liberty21.groupby([\"CEL_LATITUDE\",\"CEL_LONGITUDE\"]).agg({\n",
    "    \"Unique_Visitors\":'sum', \n",
    "    \"Daily_Visits\": 'sum',\n",
    "}).reset_index()\n",
    "\n",
    "# Create straight lines from each location to Liberty Village\n",
    "lines = [LineString([(row.CEL_LONGITUDE, row.CEL_LATITUDE), Liberty_longlat]) for i, row in Liberty21_groupby.iterrows()]\n",
    "\n",
    "# Save as a geojson\n",
    "gdf = gpd.GeoDataFrame(Liberty21_groupby, geometry=lines)\n",
    "gdf.to_file(\"Libertyflows21.geojson\", driver=\"GeoJSON\")"
   ]
  },
  {
   "cell_type": "markdown",
   "metadata": {},
   "source": [
    "## Dataset (2): Canadian Historical Business Data"
   ]
  },
  {
   "cell_type": "markdown",
   "metadata": {},
   "source": [
    "### Select and filter the required data"
   ]
  },
  {
   "cell_type": "code",
   "execution_count": null,
   "metadata": {
    "scrolled": true
   },
   "outputs": [],
   "source": [
    "# load 2020 Dataset\n",
    "\n",
    "import pandas as pd\n",
    "bus2020 = pd.read_csv(r\"Canada DB 2020.csv\")\n",
    "bus2020.head(5)"
   ]
  },
  {
   "cell_type": "code",
   "execution_count": null,
   "metadata": {
    "scrolled": true
   },
   "outputs": [],
   "source": [
    "#Filtering data to include only Toronto businesses by postcal code\n",
    "bus2020_TO = bus2020.loc[bus2020[\"ZIPP4F\"].str.startswith(\"M\", na = False)].copy().reset_index()\n",
    "\n",
    "#Filtering data to include only the businesses in the neighbourhoods of interest\n",
    "bus2020_SLV = bus2020_TO[(bus2020_TO[\"ZIP\"] == \"M5T\") | (bus2020_TO[\"ZIP\"] == \"M5V\") | (bus2020_TO[\"ZIP\"] == \"M6K\")].copy().reset_index()\n",
    "\n",
    "#Create a new column with the full postal code by combining the first and second half of the codes which was broken down into two columns originally\n",
    "bus2020_SLV[\"Postal_Code\"] = bus2020_SLV[\"ZIP\"] + bus2020_SLV[\"ZIP4\"]"
   ]
  },
  {
   "cell_type": "code",
   "execution_count": null,
   "metadata": {
    "scrolled": true
   },
   "outputs": [],
   "source": [
    "#To extract the the 3-digit NAICS code from the original 6-digit ones\n",
    "bus2020_SLV[\"NAICS3\"] = bus2020_SLV[\"NAICS\"].astype(\"str\").str[:3]\n",
    "\n",
    "#To filter only full service restuarants and drinking places based on the the first three digits of NAICS code\n",
    "rest2020_SLV = bus2020_SLV[bus2020_SLV[\"NAICS3\"] == \"722\"].reset_index(drop=True).copy()\n"
   ]
  },
  {
   "cell_type": "markdown",
   "metadata": {},
   "source": [
    "### Prepare the Address Information for Geomapping"
   ]
  },
  {
   "cell_type": "code",
   "execution_count": null,
   "metadata": {
    "scrolled": true
   },
   "outputs": [],
   "source": [
    "#Combine the individual pieces of address information into one full address\n",
    "full_address = rest2020_SLV.apply(lambda x: f'{x[\"STADDR\"]} {x[\"STCITY\"]} {x[\"STATE\"]} ', axis = 1)\n",
    "\n",
    "#Seperate the full data frame into four portion before calling the geocoding as it may trigger a time-out in one go\n",
    "fa1= full_address[0::4]\n",
    "fa2= full_address[1::4]\n",
    "fa3= full_address[2::4]\n",
    "fa4= full_address[3::4]"
   ]
  },
  {
   "cell_type": "markdown",
   "metadata": {},
   "source": [
    "### Use the Geocoder to Find Coordinates for All Addresses"
   ]
  },
  {
   "cell_type": "code",
   "execution_count": null,
   "metadata": {
    "scrolled": false
   },
   "outputs": [],
   "source": [
    "#Import the geopy package\n",
    "!pip install geopy\n",
    "\n",
    "#Import geocoders from the geopy package\n",
    "from geopy.geocoders import Nominatim\n",
    "geolocator = Nominatim(user_agent=\"jill\")"
   ]
  },
  {
   "cell_type": "code",
   "execution_count": null,
   "metadata": {},
   "outputs": [],
   "source": [
    "location = fa1.apply(lambda x: geolocator.geocode(x, timeout=None))"
   ]
  },
  {
   "cell_type": "code",
   "execution_count": null,
   "metadata": {},
   "outputs": [],
   "source": [
    "location2 = fa2.apply(lambda x: geolocator.geocode(x, timeout=None))"
   ]
  },
  {
   "cell_type": "code",
   "execution_count": null,
   "metadata": {},
   "outputs": [],
   "source": [
    "location3 = fa3.apply(lambda x: geolocator.geocode(x, timeout=None))"
   ]
  },
  {
   "cell_type": "code",
   "execution_count": null,
   "metadata": {},
   "outputs": [],
   "source": [
    "location4 = fa4.apply(lambda x: geolocator.geocode(x, timeout=None))"
   ]
  },
  {
   "cell_type": "code",
   "execution_count": null,
   "metadata": {},
   "outputs": [],
   "source": [
    "#Combining all segments of data into one\n",
    "full_address = pd.concat([location,location2,location3,location4]).sort_index()\n",
    "\n",
    "#Insert the mapped coordinates into the original data frame, code as nan if not the address was not found\n",
    "import numpy as np\n",
    "rest2020_SLV[\"lat\"] = full_address.apply(lambda x: x.latitude if x else np.nan)\n",
    "rest2020_SLV[\"long\"] = full_address.apply(lambda x: x.longitude if x else np.nan)"
   ]
  },
  {
   "cell_type": "code",
   "execution_count": null,
   "metadata": {
    "scrolled": true
   },
   "outputs": [],
   "source": [
    "#Select and rearrage the final data frame for export to QGIS\n",
    "rest2020_SLV_QGIS = rest2020_SLV[[\"CONAME\",\n",
    "                                \"STADDR\",\n",
    "                                \"STCITY\",\n",
    "                                \"STATE\",\n",
    "                                \"ZIPP4F\",\n",
    "                                \"NAICS\",\n",
    "                                \"NAICSD\",\n",
    "                                \"NAICS3\",\n",
    "                                \"Postal_Code\",\n",
    "                                \"lat\",\n",
    "                                \"long\"]]\n",
    "rest2020_SLV_QGIS\n",
    "\n",
    "rest2020_SLV_QGIS.to_csv(\"latlongSLV.csv\", index = False, header = True)"
   ]
  }
 ],
 "metadata": {
  "datalore": {
   "base_environment": "default",
   "computation_mode": "JUPYTER",
   "package_manager": "pip",
   "packages": [],
   "report_row_ids": [],
   "version": 3
  },
  "kernelspec": {
   "display_name": "Python 3 (ipykernel)",
   "language": "python",
   "name": "python3"
  },
  "language_info": {
   "codemirror_mode": {
    "name": "ipython",
    "version": 3
   },
   "file_extension": ".py",
   "mimetype": "text/x-python",
   "name": "python",
   "nbconvert_exporter": "python",
   "pygments_lexer": "ipython3",
   "version": "3.9.12"
  }
 },
 "nbformat": 4,
 "nbformat_minor": 4
}
